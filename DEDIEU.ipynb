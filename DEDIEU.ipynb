{
 "cells": [
  {
   "cell_type": "code",
   "execution_count": 24,
   "metadata": {
    "collapsed": true
   },
   "outputs": [],
   "source": [
    "from sksurv.datasets import load_aids\n",
    "from sklearn.model_selection import train_test_split\n",
    "import pandas as pd\n",
    "import numpy as np"
   ]
  },
  {
   "cell_type": "code",
   "execution_count": 11,
   "outputs": [],
   "source": [
    "Xaids, yaids = load_aids('aids')\n",
    "Xdeath, ydeath = load_aids('death')\n",
    "#https://web.archive.org/web/20170517080800/http://www.umass.edu/statdata/statdata/data/actg320.txt"
   ],
   "metadata": {
    "collapsed": false
   }
  },
  {
   "cell_type": "code",
   "execution_count": 0,
   "outputs": [],
   "source": [
    "Xaids"
   ],
   "metadata": {
    "collapsed": false
   }
  },
  {
   "cell_type": "code",
   "execution_count": 19,
   "outputs": [
    {
     "data": {
      "text/plain": "array([(False, 189.), (False, 287.), (False, 242.), ..., (False, 272.),\n       (False, 192.), (False, 132.)],\n      dtype=[('censor', '?'), ('time', '<f8')])"
     },
     "execution_count": 19,
     "metadata": {},
     "output_type": "execute_result"
    }
   ],
   "source": [
    "yaids"
   ],
   "metadata": {
    "collapsed": false
   }
  },
  {
   "cell_type": "code",
   "execution_count": 0,
   "outputs": [],
   "source": [
    "Xdeath"
   ],
   "metadata": {
    "collapsed": false
   }
  },
  {
   "cell_type": "code",
   "execution_count": 20,
   "outputs": [
    {
     "data": {
      "text/plain": "array([(False, 189.), (False, 287.), (False, 242.), ..., (False, 272.),\n       (False, 192.), (False, 132.)],\n      dtype=[('censor_d', '?'), ('time_d', '<f8')])"
     },
     "execution_count": 20,
     "metadata": {},
     "output_type": "execute_result"
    }
   ],
   "source": [
    "ydeath"
   ],
   "metadata": {
    "collapsed": false
   }
  },
  {
   "cell_type": "code",
   "execution_count": 35,
   "outputs": [
    {
     "name": "stdout",
     "output_type": "stream",
     "text": [
      "      censor_d  time_d  censor   time\n",
      "0        False   189.0   False  189.0\n",
      "1        False   287.0   False  287.0\n",
      "2        False   242.0   False  242.0\n",
      "3        False   199.0   False  199.0\n",
      "4        False   286.0   False  286.0\n",
      "...        ...     ...     ...    ...\n",
      "1146     False   273.0   False  273.0\n",
      "1147     False   327.0    True   47.0\n",
      "1148     False   272.0   False  272.0\n",
      "1149     False   192.0   False  192.0\n",
      "1150     False   132.0   False  132.0\n",
      "\n",
      "[1151 rows x 4 columns]\n"
     ]
    }
   ],
   "source": [
    "y = pd.concat([pd.DataFrame.from_records(ydeath),pd.DataFrame.from_records(yaids)],axis=1)\n",
    "\n",
    "print(y)"
   ],
   "metadata": {
    "collapsed": false
   }
  },
  {
   "cell_type": "markdown",
   "source": [
    "1 -> AIDS (qui deces ou pas)\n",
    "2 -> DECES WO AIDS\n",
    "0 -> PAS AIDS"
   ],
   "metadata": {
    "collapsed": false
   }
  }
 ],
 "metadata": {
  "kernelspec": {
   "display_name": "Python 3",
   "language": "python",
   "name": "python3"
  },
  "language_info": {
   "codemirror_mode": {
    "name": "ipython",
    "version": 2
   },
   "file_extension": ".py",
   "mimetype": "text/x-python",
   "name": "python",
   "nbconvert_exporter": "python",
   "pygments_lexer": "ipython2",
   "version": "2.7.6"
  }
 },
 "nbformat": 4,
 "nbformat_minor": 0
}
