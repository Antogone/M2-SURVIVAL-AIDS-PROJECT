{
 "cells": [
  {
   "cell_type": "code",
   "execution_count": 20,
   "outputs": [],
   "source": [
    "from sksurv.datasets import load_aids,load_breast_cancer\n",
    "import pandas as pd\n",
    "import numpy as np"
   ],
   "metadata": {
    "collapsed": false
   }
  },
  {
   "cell_type": "code",
   "execution_count": 21,
   "outputs": [],
   "source": [
    "Xaids, yaids = load_aids('aids')\n",
    "Xdeath, ydeath = load_aids('death')"
   ],
   "metadata": {
    "collapsed": false
   }
  },
  {
   "cell_type": "code",
   "execution_count": 22,
   "outputs": [
    {
     "data": {
      "text/plain": "       age    cd4 hemophil ivdrug karnof  priorzdv raceth sex strat2 tx txgrp\n0     34.0  169.0        0      1    100      39.0      1   1      1  0     1\n1     34.0  149.5        0      1     90      15.0      2   2      1  0     1\n2     20.0   23.5        1      1    100       9.0      1   1      0  1     2\n3     48.0   46.0        0      1     90      53.0      1   1      1  0     1\n4     46.0   10.0        0      3     90      12.0      1   1      0  1     2\n...    ...    ...      ...    ...    ...       ...    ...  ..    ... ..   ...\n1146  44.0   65.5        0      1    100     103.0      1   1      1  1     2\n1147  41.0    7.5        0      1     80      20.0      2   1      0  1     2\n1148  43.0  170.0        0      3     90      27.0      2   1      1  0     1\n1149  44.0  282.5        0      3     80      12.0      1   1      1  0     1\n1150  44.0  120.0        0      1     90      26.0      1   1      1  1     2\n\n[1151 rows x 11 columns]",
      "text/html": "<div>\n<style scoped>\n    .dataframe tbody tr th:only-of-type {\n        vertical-align: middle;\n    }\n\n    .dataframe tbody tr th {\n        vertical-align: top;\n    }\n\n    .dataframe thead th {\n        text-align: right;\n    }\n</style>\n<table border=\"1\" class=\"dataframe\">\n  <thead>\n    <tr style=\"text-align: right;\">\n      <th></th>\n      <th>age</th>\n      <th>cd4</th>\n      <th>hemophil</th>\n      <th>ivdrug</th>\n      <th>karnof</th>\n      <th>priorzdv</th>\n      <th>raceth</th>\n      <th>sex</th>\n      <th>strat2</th>\n      <th>tx</th>\n      <th>txgrp</th>\n    </tr>\n  </thead>\n  <tbody>\n    <tr>\n      <th>0</th>\n      <td>34.0</td>\n      <td>169.0</td>\n      <td>0</td>\n      <td>1</td>\n      <td>100</td>\n      <td>39.0</td>\n      <td>1</td>\n      <td>1</td>\n      <td>1</td>\n      <td>0</td>\n      <td>1</td>\n    </tr>\n    <tr>\n      <th>1</th>\n      <td>34.0</td>\n      <td>149.5</td>\n      <td>0</td>\n      <td>1</td>\n      <td>90</td>\n      <td>15.0</td>\n      <td>2</td>\n      <td>2</td>\n      <td>1</td>\n      <td>0</td>\n      <td>1</td>\n    </tr>\n    <tr>\n      <th>2</th>\n      <td>20.0</td>\n      <td>23.5</td>\n      <td>1</td>\n      <td>1</td>\n      <td>100</td>\n      <td>9.0</td>\n      <td>1</td>\n      <td>1</td>\n      <td>0</td>\n      <td>1</td>\n      <td>2</td>\n    </tr>\n    <tr>\n      <th>3</th>\n      <td>48.0</td>\n      <td>46.0</td>\n      <td>0</td>\n      <td>1</td>\n      <td>90</td>\n      <td>53.0</td>\n      <td>1</td>\n      <td>1</td>\n      <td>1</td>\n      <td>0</td>\n      <td>1</td>\n    </tr>\n    <tr>\n      <th>4</th>\n      <td>46.0</td>\n      <td>10.0</td>\n      <td>0</td>\n      <td>3</td>\n      <td>90</td>\n      <td>12.0</td>\n      <td>1</td>\n      <td>1</td>\n      <td>0</td>\n      <td>1</td>\n      <td>2</td>\n    </tr>\n    <tr>\n      <th>...</th>\n      <td>...</td>\n      <td>...</td>\n      <td>...</td>\n      <td>...</td>\n      <td>...</td>\n      <td>...</td>\n      <td>...</td>\n      <td>...</td>\n      <td>...</td>\n      <td>...</td>\n      <td>...</td>\n    </tr>\n    <tr>\n      <th>1146</th>\n      <td>44.0</td>\n      <td>65.5</td>\n      <td>0</td>\n      <td>1</td>\n      <td>100</td>\n      <td>103.0</td>\n      <td>1</td>\n      <td>1</td>\n      <td>1</td>\n      <td>1</td>\n      <td>2</td>\n    </tr>\n    <tr>\n      <th>1147</th>\n      <td>41.0</td>\n      <td>7.5</td>\n      <td>0</td>\n      <td>1</td>\n      <td>80</td>\n      <td>20.0</td>\n      <td>2</td>\n      <td>1</td>\n      <td>0</td>\n      <td>1</td>\n      <td>2</td>\n    </tr>\n    <tr>\n      <th>1148</th>\n      <td>43.0</td>\n      <td>170.0</td>\n      <td>0</td>\n      <td>3</td>\n      <td>90</td>\n      <td>27.0</td>\n      <td>2</td>\n      <td>1</td>\n      <td>1</td>\n      <td>0</td>\n      <td>1</td>\n    </tr>\n    <tr>\n      <th>1149</th>\n      <td>44.0</td>\n      <td>282.5</td>\n      <td>0</td>\n      <td>3</td>\n      <td>80</td>\n      <td>12.0</td>\n      <td>1</td>\n      <td>1</td>\n      <td>1</td>\n      <td>0</td>\n      <td>1</td>\n    </tr>\n    <tr>\n      <th>1150</th>\n      <td>44.0</td>\n      <td>120.0</td>\n      <td>0</td>\n      <td>1</td>\n      <td>90</td>\n      <td>26.0</td>\n      <td>1</td>\n      <td>1</td>\n      <td>1</td>\n      <td>1</td>\n      <td>2</td>\n    </tr>\n  </tbody>\n</table>\n<p>1151 rows × 11 columns</p>\n</div>"
     },
     "execution_count": 22,
     "metadata": {},
     "output_type": "execute_result"
    }
   ],
   "source": [
    "Xaids"
   ],
   "metadata": {
    "collapsed": false
   }
  },
  {
   "cell_type": "code",
   "execution_count": 23,
   "outputs": [
    {
     "data": {
      "text/plain": "array([(False, 189.), (False, 287.), (False, 242.), ..., (False, 272.),\n       (False, 192.), (False, 132.)],\n      dtype=[('censor', '?'), ('time', '<f8')])"
     },
     "execution_count": 23,
     "metadata": {},
     "output_type": "execute_result"
    }
   ],
   "source": [
    "yaids"
   ],
   "metadata": {
    "collapsed": false
   }
  },
  {
   "cell_type": "code",
   "execution_count": 24,
   "outputs": [
    {
     "data": {
      "text/plain": "       age    cd4 hemophil ivdrug karnof  priorzdv raceth sex strat2 tx txgrp\n0     34.0  169.0        0      1    100      39.0      1   1      1  0     1\n1     34.0  149.5        0      1     90      15.0      2   2      1  0     1\n2     20.0   23.5        1      1    100       9.0      1   1      0  1     2\n3     48.0   46.0        0      1     90      53.0      1   1      1  0     1\n4     46.0   10.0        0      3     90      12.0      1   1      0  1     2\n...    ...    ...      ...    ...    ...       ...    ...  ..    ... ..   ...\n1146  44.0   65.5        0      1    100     103.0      1   1      1  1     2\n1147  41.0    7.5        0      1     80      20.0      2   1      0  1     2\n1148  43.0  170.0        0      3     90      27.0      2   1      1  0     1\n1149  44.0  282.5        0      3     80      12.0      1   1      1  0     1\n1150  44.0  120.0        0      1     90      26.0      1   1      1  1     2\n\n[1151 rows x 11 columns]",
      "text/html": "<div>\n<style scoped>\n    .dataframe tbody tr th:only-of-type {\n        vertical-align: middle;\n    }\n\n    .dataframe tbody tr th {\n        vertical-align: top;\n    }\n\n    .dataframe thead th {\n        text-align: right;\n    }\n</style>\n<table border=\"1\" class=\"dataframe\">\n  <thead>\n    <tr style=\"text-align: right;\">\n      <th></th>\n      <th>age</th>\n      <th>cd4</th>\n      <th>hemophil</th>\n      <th>ivdrug</th>\n      <th>karnof</th>\n      <th>priorzdv</th>\n      <th>raceth</th>\n      <th>sex</th>\n      <th>strat2</th>\n      <th>tx</th>\n      <th>txgrp</th>\n    </tr>\n  </thead>\n  <tbody>\n    <tr>\n      <th>0</th>\n      <td>34.0</td>\n      <td>169.0</td>\n      <td>0</td>\n      <td>1</td>\n      <td>100</td>\n      <td>39.0</td>\n      <td>1</td>\n      <td>1</td>\n      <td>1</td>\n      <td>0</td>\n      <td>1</td>\n    </tr>\n    <tr>\n      <th>1</th>\n      <td>34.0</td>\n      <td>149.5</td>\n      <td>0</td>\n      <td>1</td>\n      <td>90</td>\n      <td>15.0</td>\n      <td>2</td>\n      <td>2</td>\n      <td>1</td>\n      <td>0</td>\n      <td>1</td>\n    </tr>\n    <tr>\n      <th>2</th>\n      <td>20.0</td>\n      <td>23.5</td>\n      <td>1</td>\n      <td>1</td>\n      <td>100</td>\n      <td>9.0</td>\n      <td>1</td>\n      <td>1</td>\n      <td>0</td>\n      <td>1</td>\n      <td>2</td>\n    </tr>\n    <tr>\n      <th>3</th>\n      <td>48.0</td>\n      <td>46.0</td>\n      <td>0</td>\n      <td>1</td>\n      <td>90</td>\n      <td>53.0</td>\n      <td>1</td>\n      <td>1</td>\n      <td>1</td>\n      <td>0</td>\n      <td>1</td>\n    </tr>\n    <tr>\n      <th>4</th>\n      <td>46.0</td>\n      <td>10.0</td>\n      <td>0</td>\n      <td>3</td>\n      <td>90</td>\n      <td>12.0</td>\n      <td>1</td>\n      <td>1</td>\n      <td>0</td>\n      <td>1</td>\n      <td>2</td>\n    </tr>\n    <tr>\n      <th>...</th>\n      <td>...</td>\n      <td>...</td>\n      <td>...</td>\n      <td>...</td>\n      <td>...</td>\n      <td>...</td>\n      <td>...</td>\n      <td>...</td>\n      <td>...</td>\n      <td>...</td>\n      <td>...</td>\n    </tr>\n    <tr>\n      <th>1146</th>\n      <td>44.0</td>\n      <td>65.5</td>\n      <td>0</td>\n      <td>1</td>\n      <td>100</td>\n      <td>103.0</td>\n      <td>1</td>\n      <td>1</td>\n      <td>1</td>\n      <td>1</td>\n      <td>2</td>\n    </tr>\n    <tr>\n      <th>1147</th>\n      <td>41.0</td>\n      <td>7.5</td>\n      <td>0</td>\n      <td>1</td>\n      <td>80</td>\n      <td>20.0</td>\n      <td>2</td>\n      <td>1</td>\n      <td>0</td>\n      <td>1</td>\n      <td>2</td>\n    </tr>\n    <tr>\n      <th>1148</th>\n      <td>43.0</td>\n      <td>170.0</td>\n      <td>0</td>\n      <td>3</td>\n      <td>90</td>\n      <td>27.0</td>\n      <td>2</td>\n      <td>1</td>\n      <td>1</td>\n      <td>0</td>\n      <td>1</td>\n    </tr>\n    <tr>\n      <th>1149</th>\n      <td>44.0</td>\n      <td>282.5</td>\n      <td>0</td>\n      <td>3</td>\n      <td>80</td>\n      <td>12.0</td>\n      <td>1</td>\n      <td>1</td>\n      <td>1</td>\n      <td>0</td>\n      <td>1</td>\n    </tr>\n    <tr>\n      <th>1150</th>\n      <td>44.0</td>\n      <td>120.0</td>\n      <td>0</td>\n      <td>1</td>\n      <td>90</td>\n      <td>26.0</td>\n      <td>1</td>\n      <td>1</td>\n      <td>1</td>\n      <td>1</td>\n      <td>2</td>\n    </tr>\n  </tbody>\n</table>\n<p>1151 rows × 11 columns</p>\n</div>"
     },
     "execution_count": 24,
     "metadata": {},
     "output_type": "execute_result"
    }
   ],
   "source": [
    "Xdeath"
   ],
   "metadata": {
    "collapsed": false
   }
  },
  {
   "cell_type": "code",
   "execution_count": 25,
   "outputs": [
    {
     "data": {
      "text/plain": "array([(False, 189.), (False, 287.), (False, 242.), ..., (False, 272.),\n       (False, 192.), (False, 132.)],\n      dtype=[('censor_d', '?'), ('time_d', '<f8')])"
     },
     "execution_count": 25,
     "metadata": {},
     "output_type": "execute_result"
    }
   ],
   "source": [
    "ydeath"
   ],
   "metadata": {
    "collapsed": false
   }
  },
  {
   "cell_type": "code",
   "execution_count": 26,
   "outputs": [
    {
     "data": {
      "text/plain": "      censor_d  time_d  censor   time\n0            0   189.0       0  189.0\n1            0   287.0       0  287.0\n2            0   242.0       0  242.0\n3            0   199.0       0  199.0\n4            0   286.0       0  286.0\n...        ...     ...     ...    ...\n1146         0   273.0       0  273.0\n1147         0   327.0       1   47.0\n1148         0   272.0       0  272.0\n1149         0   192.0       0  192.0\n1150         0   132.0       0  132.0\n\n[1151 rows x 4 columns]",
      "text/html": "<div>\n<style scoped>\n    .dataframe tbody tr th:only-of-type {\n        vertical-align: middle;\n    }\n\n    .dataframe tbody tr th {\n        vertical-align: top;\n    }\n\n    .dataframe thead th {\n        text-align: right;\n    }\n</style>\n<table border=\"1\" class=\"dataframe\">\n  <thead>\n    <tr style=\"text-align: right;\">\n      <th></th>\n      <th>censor_d</th>\n      <th>time_d</th>\n      <th>censor</th>\n      <th>time</th>\n    </tr>\n  </thead>\n  <tbody>\n    <tr>\n      <th>0</th>\n      <td>0</td>\n      <td>189.0</td>\n      <td>0</td>\n      <td>189.0</td>\n    </tr>\n    <tr>\n      <th>1</th>\n      <td>0</td>\n      <td>287.0</td>\n      <td>0</td>\n      <td>287.0</td>\n    </tr>\n    <tr>\n      <th>2</th>\n      <td>0</td>\n      <td>242.0</td>\n      <td>0</td>\n      <td>242.0</td>\n    </tr>\n    <tr>\n      <th>3</th>\n      <td>0</td>\n      <td>199.0</td>\n      <td>0</td>\n      <td>199.0</td>\n    </tr>\n    <tr>\n      <th>4</th>\n      <td>0</td>\n      <td>286.0</td>\n      <td>0</td>\n      <td>286.0</td>\n    </tr>\n    <tr>\n      <th>...</th>\n      <td>...</td>\n      <td>...</td>\n      <td>...</td>\n      <td>...</td>\n    </tr>\n    <tr>\n      <th>1146</th>\n      <td>0</td>\n      <td>273.0</td>\n      <td>0</td>\n      <td>273.0</td>\n    </tr>\n    <tr>\n      <th>1147</th>\n      <td>0</td>\n      <td>327.0</td>\n      <td>1</td>\n      <td>47.0</td>\n    </tr>\n    <tr>\n      <th>1148</th>\n      <td>0</td>\n      <td>272.0</td>\n      <td>0</td>\n      <td>272.0</td>\n    </tr>\n    <tr>\n      <th>1149</th>\n      <td>0</td>\n      <td>192.0</td>\n      <td>0</td>\n      <td>192.0</td>\n    </tr>\n    <tr>\n      <th>1150</th>\n      <td>0</td>\n      <td>132.0</td>\n      <td>0</td>\n      <td>132.0</td>\n    </tr>\n  </tbody>\n</table>\n<p>1151 rows × 4 columns</p>\n</div>"
     },
     "execution_count": 26,
     "metadata": {},
     "output_type": "execute_result"
    }
   ],
   "source": [
    "y = pd.concat([pd.DataFrame.from_records(ydeath),pd.DataFrame.from_records(yaids)],axis=1)\n",
    "y['censor'] = y['censor'].astype('int64')\n",
    "y['censor_d'] = y['censor_d'].astype('int64')\n",
    "y"
   ],
   "metadata": {
    "collapsed": false
   }
  },
  {
   "cell_type": "markdown",
   "source": [
    "1 -> AIDS\n",
    "2 -> DECES W/O AIDS\n",
    "0 -> PAS AIDS"
   ],
   "metadata": {
    "collapsed": false
   }
  },
  {
   "cell_type": "code",
   "execution_count": 27,
   "outputs": [
    {
     "name": "stdout",
     "output_type": "stream",
     "text": [
      "      censor_d  time_d  censor   time  status\n",
      "0            0   189.0       0  189.0     0.0\n",
      "1            0   287.0       0  287.0     0.0\n",
      "2            0   242.0       0  242.0     0.0\n",
      "3            0   199.0       0  199.0     0.0\n",
      "4            0   286.0       0  286.0     0.0\n",
      "...        ...     ...     ...    ...     ...\n",
      "1146         0   273.0       0  273.0     0.0\n",
      "1147         0   327.0       1   47.0     1.0\n",
      "1148         0   272.0       0  272.0     0.0\n",
      "1149         0   192.0       0  192.0     0.0\n",
      "1150         0   132.0       0  132.0     0.0\n",
      "\n",
      "[1151 rows x 5 columns]\n"
     ]
    }
   ],
   "source": [
    "\n",
    "y['status'] = np.where((y['censor'] == 0) & (y['censor_d'] == 0), 0,\n",
    "                       np.where((y['censor'] == 1), 1,\n",
    "                       np.where((y['censor'] == 0) & (y['censor_d'] == 1), 2, np.nan)))\n",
    "print(y)"
   ],
   "metadata": {
    "collapsed": false
   }
  },
  {
   "cell_type": "code",
   "execution_count": 28,
   "outputs": [
    {
     "data": {
      "text/plain": "       time  status\n0     189.0     0.0\n1     287.0     0.0\n2     242.0     0.0\n3     199.0     0.0\n4     286.0     0.0\n...     ...     ...\n1146  273.0     0.0\n1147   47.0     1.0\n1148  272.0     0.0\n1149  192.0     0.0\n1150  132.0     0.0\n\n[1151 rows x 2 columns]",
      "text/html": "<div>\n<style scoped>\n    .dataframe tbody tr th:only-of-type {\n        vertical-align: middle;\n    }\n\n    .dataframe tbody tr th {\n        vertical-align: top;\n    }\n\n    .dataframe thead th {\n        text-align: right;\n    }\n</style>\n<table border=\"1\" class=\"dataframe\">\n  <thead>\n    <tr style=\"text-align: right;\">\n      <th></th>\n      <th>time</th>\n      <th>status</th>\n    </tr>\n  </thead>\n  <tbody>\n    <tr>\n      <th>0</th>\n      <td>189.0</td>\n      <td>0.0</td>\n    </tr>\n    <tr>\n      <th>1</th>\n      <td>287.0</td>\n      <td>0.0</td>\n    </tr>\n    <tr>\n      <th>2</th>\n      <td>242.0</td>\n      <td>0.0</td>\n    </tr>\n    <tr>\n      <th>3</th>\n      <td>199.0</td>\n      <td>0.0</td>\n    </tr>\n    <tr>\n      <th>4</th>\n      <td>286.0</td>\n      <td>0.0</td>\n    </tr>\n    <tr>\n      <th>...</th>\n      <td>...</td>\n      <td>...</td>\n    </tr>\n    <tr>\n      <th>1146</th>\n      <td>273.0</td>\n      <td>0.0</td>\n    </tr>\n    <tr>\n      <th>1147</th>\n      <td>47.0</td>\n      <td>1.0</td>\n    </tr>\n    <tr>\n      <th>1148</th>\n      <td>272.0</td>\n      <td>0.0</td>\n    </tr>\n    <tr>\n      <th>1149</th>\n      <td>192.0</td>\n      <td>0.0</td>\n    </tr>\n    <tr>\n      <th>1150</th>\n      <td>132.0</td>\n      <td>0.0</td>\n    </tr>\n  </tbody>\n</table>\n<p>1151 rows × 2 columns</p>\n</div>"
     },
     "execution_count": 28,
     "metadata": {},
     "output_type": "execute_result"
    }
   ],
   "source": [
    "y = y.drop([\"time_d\",\"censor\",\"censor_d\"],axis=1)\n",
    "y"
   ],
   "metadata": {
    "collapsed": false
   }
  },
  {
   "cell_type": "markdown",
   "source": [
    "temps d'event pour la simualtion\n",
    "simulation en risque compétitif de mon décès sans sida (avec un lien ou pas avec nos covariable) deces overdose sans sida (pverdose et sexe)\n",
    "\n",
    "TODO:\n",
    "- Simulation des temps pour les DECES d'overdose sans SIDA"
   ],
   "metadata": {
    "collapsed": false
   }
  },
  {
   "cell_type": "code",
   "execution_count": 29,
   "outputs": [
    {
     "name": "stdout",
     "output_type": "stream",
     "text": [
      "0.0    1055\n",
      "1.0      96\n",
      "Name: status, dtype: int64\n"
     ]
    }
   ],
   "source": [
    "counts = y['status'].value_counts()\n",
    "\n",
    "print(counts)"
   ],
   "metadata": {
    "collapsed": false
   }
  },
  {
   "cell_type": "code",
   "execution_count": 30,
   "outputs": [],
   "source": [
    "y.to_csv('/Users/anto/Desktop/M2SPB/SURVIE/PROJET/M2-SURVIVAL-AIDS-PROJECT/y.csv', index=True)"
   ],
   "metadata": {
    "collapsed": false
   }
  },
  {
   "cell_type": "code",
   "execution_count": 31,
   "outputs": [],
   "source": [
    "Xaids.to_csv('/Users/anto/Desktop/M2SPB/SURVIE/PROJET/M2-SURVIVAL-AIDS-PROJECT/X.csv', index=True)"
   ],
   "metadata": {
    "collapsed": false
   }
  },
  {
   "cell_type": "code",
   "execution_count": 34,
   "outputs": [
    {
     "data": {
      "text/plain": "     X200726_at  X200965_s_at  X201068_s_at  X201091_s_at  X201288_at  \\\n0     10.926361      8.962608     11.630078     10.964107   11.518305   \n1     12.242090      9.531718     12.626106     11.594716   12.317659   \n2     11.661716     10.238680     12.572919      9.166088   11.698658   \n3     12.174021      9.819279     12.109888      9.086937   13.132617   \n4     11.484011     11.489233     11.779285      8.887616   10.429663   \n..          ...           ...           ...           ...         ...   \n193   12.018292      8.323876     11.955274     10.740020   11.150428   \n194   11.711415     10.428482     12.420877     11.145993   11.084685   \n195   11.939616      9.615587     11.962812     10.463171   11.514539   \n196   11.848449     10.528911     11.318453      8.609631   13.719035   \n197   11.425778      9.901486     12.167550      9.011730   12.013692   \n\n     X201368_at  X201663_s_at  X201664_at  X202239_at  X202240_at  ...  \\\n0     12.038527      9.623518    9.814798   10.016732    7.847383  ...   \n1     10.776911     10.604577   10.704329   10.161838    8.744875  ...   \n2     11.353333      9.384927   10.161654   10.032721    8.125487  ...   \n3     11.859394      8.400839    8.670721   10.727427    8.650810  ...   \n4     11.401139      7.741092    8.642018    9.556686    8.478862  ...   \n..          ...           ...         ...         ...         ...  ...   \n193   10.650873      8.787549    9.747182   10.176306    9.240307  ...   \n194   11.169750     10.870530   11.128882    9.573702    9.287522  ...   \n195   11.487394     10.443569   11.104227    9.051649    7.279063  ...   \n196   12.909814      7.525994    8.255546    9.788903    7.343499  ...   \n197   12.046090      9.254448    9.751310   10.701032    8.075518  ...   \n\n     X221344_at  X221634_at  X221816_s_at  X221882_s_at  X221916_at  \\\n0      6.313081    7.842097     10.132635     10.926365    6.477749   \n1      5.126765    8.780328     10.213467      9.555092    4.968050   \n2      6.936022    7.855649     10.164514      9.308048    4.283777   \n3      6.787297    6.678375     10.660092     10.208241    5.713404   \n4      7.312287    7.358556     11.570330     10.931843    5.817265   \n..          ...         ...           ...           ...         ...   \n193    6.354728    9.240358     10.074577      9.604668    6.889179   \n194    6.481257    7.645481     11.289674     11.067820    5.393927   \n195    6.750251    7.642915     11.490971      7.743568    5.922925   \n196    7.134177    7.536181     11.092211      9.298178    7.278383   \n197    6.236565    7.898252     10.052326      8.958376    6.590989   \n\n     X221928_at   age        er                  grade  size  \n0      5.991885  57.0  negative  poorly differentiated   3.0  \n1      7.051130  57.0  positive  poorly differentiated   3.0  \n2      6.828986  48.0  negative  poorly differentiated   2.5  \n3      6.927251  42.0  positive  poorly differentiated   1.8  \n4      6.655448  46.0  positive           intermediate   3.0  \n..          ...   ...       ...                    ...   ...  \n193    5.892040  39.0  negative  poorly differentiated   2.2  \n194    6.421038  46.0  negative  poorly differentiated   3.2  \n195    6.979894  47.0  positive    well differentiated   2.5  \n196    7.195797  43.0  positive           intermediate   1.2  \n197    8.034222  39.0  negative  poorly differentiated   2.5  \n\n[198 rows x 80 columns]",
      "text/html": "<div>\n<style scoped>\n    .dataframe tbody tr th:only-of-type {\n        vertical-align: middle;\n    }\n\n    .dataframe tbody tr th {\n        vertical-align: top;\n    }\n\n    .dataframe thead th {\n        text-align: right;\n    }\n</style>\n<table border=\"1\" class=\"dataframe\">\n  <thead>\n    <tr style=\"text-align: right;\">\n      <th></th>\n      <th>X200726_at</th>\n      <th>X200965_s_at</th>\n      <th>X201068_s_at</th>\n      <th>X201091_s_at</th>\n      <th>X201288_at</th>\n      <th>X201368_at</th>\n      <th>X201663_s_at</th>\n      <th>X201664_at</th>\n      <th>X202239_at</th>\n      <th>X202240_at</th>\n      <th>...</th>\n      <th>X221344_at</th>\n      <th>X221634_at</th>\n      <th>X221816_s_at</th>\n      <th>X221882_s_at</th>\n      <th>X221916_at</th>\n      <th>X221928_at</th>\n      <th>age</th>\n      <th>er</th>\n      <th>grade</th>\n      <th>size</th>\n    </tr>\n  </thead>\n  <tbody>\n    <tr>\n      <th>0</th>\n      <td>10.926361</td>\n      <td>8.962608</td>\n      <td>11.630078</td>\n      <td>10.964107</td>\n      <td>11.518305</td>\n      <td>12.038527</td>\n      <td>9.623518</td>\n      <td>9.814798</td>\n      <td>10.016732</td>\n      <td>7.847383</td>\n      <td>...</td>\n      <td>6.313081</td>\n      <td>7.842097</td>\n      <td>10.132635</td>\n      <td>10.926365</td>\n      <td>6.477749</td>\n      <td>5.991885</td>\n      <td>57.0</td>\n      <td>negative</td>\n      <td>poorly differentiated</td>\n      <td>3.0</td>\n    </tr>\n    <tr>\n      <th>1</th>\n      <td>12.242090</td>\n      <td>9.531718</td>\n      <td>12.626106</td>\n      <td>11.594716</td>\n      <td>12.317659</td>\n      <td>10.776911</td>\n      <td>10.604577</td>\n      <td>10.704329</td>\n      <td>10.161838</td>\n      <td>8.744875</td>\n      <td>...</td>\n      <td>5.126765</td>\n      <td>8.780328</td>\n      <td>10.213467</td>\n      <td>9.555092</td>\n      <td>4.968050</td>\n      <td>7.051130</td>\n      <td>57.0</td>\n      <td>positive</td>\n      <td>poorly differentiated</td>\n      <td>3.0</td>\n    </tr>\n    <tr>\n      <th>2</th>\n      <td>11.661716</td>\n      <td>10.238680</td>\n      <td>12.572919</td>\n      <td>9.166088</td>\n      <td>11.698658</td>\n      <td>11.353333</td>\n      <td>9.384927</td>\n      <td>10.161654</td>\n      <td>10.032721</td>\n      <td>8.125487</td>\n      <td>...</td>\n      <td>6.936022</td>\n      <td>7.855649</td>\n      <td>10.164514</td>\n      <td>9.308048</td>\n      <td>4.283777</td>\n      <td>6.828986</td>\n      <td>48.0</td>\n      <td>negative</td>\n      <td>poorly differentiated</td>\n      <td>2.5</td>\n    </tr>\n    <tr>\n      <th>3</th>\n      <td>12.174021</td>\n      <td>9.819279</td>\n      <td>12.109888</td>\n      <td>9.086937</td>\n      <td>13.132617</td>\n      <td>11.859394</td>\n      <td>8.400839</td>\n      <td>8.670721</td>\n      <td>10.727427</td>\n      <td>8.650810</td>\n      <td>...</td>\n      <td>6.787297</td>\n      <td>6.678375</td>\n      <td>10.660092</td>\n      <td>10.208241</td>\n      <td>5.713404</td>\n      <td>6.927251</td>\n      <td>42.0</td>\n      <td>positive</td>\n      <td>poorly differentiated</td>\n      <td>1.8</td>\n    </tr>\n    <tr>\n      <th>4</th>\n      <td>11.484011</td>\n      <td>11.489233</td>\n      <td>11.779285</td>\n      <td>8.887616</td>\n      <td>10.429663</td>\n      <td>11.401139</td>\n      <td>7.741092</td>\n      <td>8.642018</td>\n      <td>9.556686</td>\n      <td>8.478862</td>\n      <td>...</td>\n      <td>7.312287</td>\n      <td>7.358556</td>\n      <td>11.570330</td>\n      <td>10.931843</td>\n      <td>5.817265</td>\n      <td>6.655448</td>\n      <td>46.0</td>\n      <td>positive</td>\n      <td>intermediate</td>\n      <td>3.0</td>\n    </tr>\n    <tr>\n      <th>...</th>\n      <td>...</td>\n      <td>...</td>\n      <td>...</td>\n      <td>...</td>\n      <td>...</td>\n      <td>...</td>\n      <td>...</td>\n      <td>...</td>\n      <td>...</td>\n      <td>...</td>\n      <td>...</td>\n      <td>...</td>\n      <td>...</td>\n      <td>...</td>\n      <td>...</td>\n      <td>...</td>\n      <td>...</td>\n      <td>...</td>\n      <td>...</td>\n      <td>...</td>\n      <td>...</td>\n    </tr>\n    <tr>\n      <th>193</th>\n      <td>12.018292</td>\n      <td>8.323876</td>\n      <td>11.955274</td>\n      <td>10.740020</td>\n      <td>11.150428</td>\n      <td>10.650873</td>\n      <td>8.787549</td>\n      <td>9.747182</td>\n      <td>10.176306</td>\n      <td>9.240307</td>\n      <td>...</td>\n      <td>6.354728</td>\n      <td>9.240358</td>\n      <td>10.074577</td>\n      <td>9.604668</td>\n      <td>6.889179</td>\n      <td>5.892040</td>\n      <td>39.0</td>\n      <td>negative</td>\n      <td>poorly differentiated</td>\n      <td>2.2</td>\n    </tr>\n    <tr>\n      <th>194</th>\n      <td>11.711415</td>\n      <td>10.428482</td>\n      <td>12.420877</td>\n      <td>11.145993</td>\n      <td>11.084685</td>\n      <td>11.169750</td>\n      <td>10.870530</td>\n      <td>11.128882</td>\n      <td>9.573702</td>\n      <td>9.287522</td>\n      <td>...</td>\n      <td>6.481257</td>\n      <td>7.645481</td>\n      <td>11.289674</td>\n      <td>11.067820</td>\n      <td>5.393927</td>\n      <td>6.421038</td>\n      <td>46.0</td>\n      <td>negative</td>\n      <td>poorly differentiated</td>\n      <td>3.2</td>\n    </tr>\n    <tr>\n      <th>195</th>\n      <td>11.939616</td>\n      <td>9.615587</td>\n      <td>11.962812</td>\n      <td>10.463171</td>\n      <td>11.514539</td>\n      <td>11.487394</td>\n      <td>10.443569</td>\n      <td>11.104227</td>\n      <td>9.051649</td>\n      <td>7.279063</td>\n      <td>...</td>\n      <td>6.750251</td>\n      <td>7.642915</td>\n      <td>11.490971</td>\n      <td>7.743568</td>\n      <td>5.922925</td>\n      <td>6.979894</td>\n      <td>47.0</td>\n      <td>positive</td>\n      <td>well differentiated</td>\n      <td>2.5</td>\n    </tr>\n    <tr>\n      <th>196</th>\n      <td>11.848449</td>\n      <td>10.528911</td>\n      <td>11.318453</td>\n      <td>8.609631</td>\n      <td>13.719035</td>\n      <td>12.909814</td>\n      <td>7.525994</td>\n      <td>8.255546</td>\n      <td>9.788903</td>\n      <td>7.343499</td>\n      <td>...</td>\n      <td>7.134177</td>\n      <td>7.536181</td>\n      <td>11.092211</td>\n      <td>9.298178</td>\n      <td>7.278383</td>\n      <td>7.195797</td>\n      <td>43.0</td>\n      <td>positive</td>\n      <td>intermediate</td>\n      <td>1.2</td>\n    </tr>\n    <tr>\n      <th>197</th>\n      <td>11.425778</td>\n      <td>9.901486</td>\n      <td>12.167550</td>\n      <td>9.011730</td>\n      <td>12.013692</td>\n      <td>12.046090</td>\n      <td>9.254448</td>\n      <td>9.751310</td>\n      <td>10.701032</td>\n      <td>8.075518</td>\n      <td>...</td>\n      <td>6.236565</td>\n      <td>7.898252</td>\n      <td>10.052326</td>\n      <td>8.958376</td>\n      <td>6.590989</td>\n      <td>8.034222</td>\n      <td>39.0</td>\n      <td>negative</td>\n      <td>poorly differentiated</td>\n      <td>2.5</td>\n    </tr>\n  </tbody>\n</table>\n<p>198 rows × 80 columns</p>\n</div>"
     },
     "execution_count": 34,
     "metadata": {},
     "output_type": "execute_result"
    }
   ],
   "source": [
    "X, y = load_breast_cancer()\n",
    "X"
   ],
   "metadata": {
    "collapsed": false
   }
  },
  {
   "cell_type": "code",
   "execution_count": 36,
   "outputs": [
    {
     "data": {
      "text/plain": "array([( True,  723.), (False, 6591.), ( True,  524.), (False, 6255.),\n       ( True, 3822.), (False, 6507.), (False, 5947.), (False, 5816.),\n       (False, 6007.), ( True, 1233.), ( True, 1136.), (False, 5984.),\n       (False, 6249.), ( True, 4066.), ( True,  690.), ( True,  994.),\n       ( True,  434.), ( True, 1743.), ( True, 2863.), (False, 5693.),\n       (False, 5823.), (False, 5785.), (False, 5661.), (False, 2909.),\n       ( True, 1171.), (False, 5110.), (False, 5533.), (False, 5571.),\n       (False, 5519.), (False, 5379.), (False, 4675.), (False, 4652.),\n       (False, 4227.), ( True,  910.), (False, 4472.), ( True, 1206.),\n       (False, 7057.), (False,  958.), (False, 5359.), (False, 5945.),\n       (False, 5651.), ( True,  528.), ( True,  796.), (False, 5685.),\n       ( True, 1023.), (False, 4791.), (False, 1215.), (False, 3779.),\n       (False, 5306.), (False, 5678.), ( True,  421.), (False, 5612.),\n       ( True, 3121.), (False, 1104.), (False, 4691.), (False, 5238.),\n       (False, 5101.), (False, 2809.), (False, 3296.), (False, 3555.),\n       (False, 5433.), (False, 5228.), (False, 5316.), (False, 4925.),\n       (False, 5012.), (False, 4642.), (False, 3311.), (False, 4863.),\n       ( True, 1815.), ( True,  803.), (False, 2105.), ( True,  530.),\n       (False, 4830.), ( True, 1721.), (False, 4720.), ( True, 1259.),\n       ( True, 3976.), ( True, 4050.), (False, 1740.), (False, 3608.),\n       (False, 3900.), (False, 1554.), (False, 3544.), (False, 3721.),\n       (False, 3771.), (False, 3293.), (False, 3800.), ( True, 4415.),\n       ( True,  649.), (False, 4952.), ( True, 1693.), (False, 4603.),\n       (False, 4857.), (False, 4681.), (False, 2965.), (False, 4596.),\n       ( True, 1112.), (False, 1918.), ( True, 1731.), (False, 4327.),\n       (False, 4352.), (False, 4181.), (False, 3188.), (False, 2672.),\n       ( True,  730.), (False, 1591.), (False, 1920.), (False, 2647.),\n       ( True,  269.), (False, 1290.), (False, 4568.), (False, 4537.),\n       (False, 5035.), ( True, 2604.), ( True,  394.), ( True, 6777.),\n       (False, 2549.), (False, 4085.), (False, 2892.), (False, 5236.),\n       (False, 5406.), (False, 4279.), (False, 5359.), (False, 3964.),\n       ( True,  289.), (False, 6298.), (False, 6399.), (False, 5683.),\n       (False, 6240.), (False, 6161.), (False, 6132.), ( True, 4212.),\n       (False, 4980.), (False, 1703.), (False, 5014.), ( True,  880.),\n       (False, 8711.), (False, 4672.), (False, 6943.), (False, 6135.),\n       ( True,  805.), (False, 5917.), (False, 5909.), (False, 2196.),\n       (False, 5860.), ( True, 2349.), (False, 5779.), (False, 5779.),\n       (False, 5723.), (False, 5714.), (False, 5653.), ( True,  125.),\n       (False, 5678.), ( True, 1742.), (False, 3614.), (False, 5602.),\n       (False, 5768.), (False, 5684.), (False, 5530.), (False, 5551.),\n       (False, 6352.), (False, 6295.), ( True, 7185.), (False, 6281.),\n       ( True, 3313.), (False, 6003.), (False, 2972.), (False, 6232.),\n       (False, 9108.), ( True, 4353.), (False, 3914.), (False, 5181.),\n       (False, 3855.), (False, 5156.), (False, 4744.), ( True,  794.),\n       ( True, 1598.), (False, 5038.), (False, 4874.), (False, 4555.),\n       (False, 4487.), (False, 4297.), (False, 4866.), (False, 4178.),\n       ( True, 4618.), (False, 4052.), (False, 3782.), (False, 3492.),\n       (False, 2561.), ( True, 2454.), (False, 2879.), (False, 5137.),\n       (False, 7023.), (False, 5673.), ( True,  404.), (False, 2225.),\n       (False, 2722.), (False, 1781.)],\n      dtype=[('e.tdm', '?'), ('t.tdm', '<f8')])"
     },
     "execution_count": 36,
     "metadata": {},
     "output_type": "execute_result"
    }
   ],
   "source": [
    "y"
   ],
   "metadata": {
    "collapsed": false
   }
  },
  {
   "cell_type": "code",
   "execution_count": null,
   "outputs": [],
   "source": [],
   "metadata": {
    "collapsed": false
   }
  }
 ],
 "metadata": {
  "kernelspec": {
   "display_name": "Python 3",
   "language": "python",
   "name": "python3"
  },
  "language_info": {
   "codemirror_mode": {
    "name": "ipython",
    "version": 2
   },
   "file_extension": ".py",
   "mimetype": "text/x-python",
   "name": "python",
   "nbconvert_exporter": "python",
   "pygments_lexer": "ipython2",
   "version": "2.7.6"
  }
 },
 "nbformat": 4,
 "nbformat_minor": 0
}
