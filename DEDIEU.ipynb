{
 "cells": [
  {
   "cell_type": "code",
   "execution_count": 35,
   "metadata": {
    "collapsed": true
   },
   "outputs": [],
   "source": [
    "from sksurv.datasets import load_aids\n",
    "from sklearn.model_selection import train_test_split\n",
    "import pandas as pd\n",
    "import numpy as np"
   ]
  },
  {
   "cell_type": "code",
   "execution_count": 36,
   "outputs": [],
   "source": [
    "Xaids, yaids = load_aids('aids')\n",
    "Xdeath, ydeath = load_aids('death')\n",
    "#https://web.archive.org/web/20170517080800/http://www.umass.edu/statdata/statdata/data/actg320.txt"
   ],
   "metadata": {
    "collapsed": false
   }
  },
  {
   "cell_type": "code",
   "execution_count": 37,
   "outputs": [
    {
     "data": {
      "text/plain": "       age    cd4 hemophil ivdrug karnof  priorzdv raceth sex strat2 tx txgrp\n0     34.0  169.0        0      1    100      39.0      1   1      1  0     1\n1     34.0  149.5        0      1     90      15.0      2   2      1  0     1\n2     20.0   23.5        1      1    100       9.0      1   1      0  1     2\n3     48.0   46.0        0      1     90      53.0      1   1      1  0     1\n4     46.0   10.0        0      3     90      12.0      1   1      0  1     2\n...    ...    ...      ...    ...    ...       ...    ...  ..    ... ..   ...\n1146  44.0   65.5        0      1    100     103.0      1   1      1  1     2\n1147  41.0    7.5        0      1     80      20.0      2   1      0  1     2\n1148  43.0  170.0        0      3     90      27.0      2   1      1  0     1\n1149  44.0  282.5        0      3     80      12.0      1   1      1  0     1\n1150  44.0  120.0        0      1     90      26.0      1   1      1  1     2\n\n[1151 rows x 11 columns]",
      "text/html": "<div>\n<style scoped>\n    .dataframe tbody tr th:only-of-type {\n        vertical-align: middle;\n    }\n\n    .dataframe tbody tr th {\n        vertical-align: top;\n    }\n\n    .dataframe thead th {\n        text-align: right;\n    }\n</style>\n<table border=\"1\" class=\"dataframe\">\n  <thead>\n    <tr style=\"text-align: right;\">\n      <th></th>\n      <th>age</th>\n      <th>cd4</th>\n      <th>hemophil</th>\n      <th>ivdrug</th>\n      <th>karnof</th>\n      <th>priorzdv</th>\n      <th>raceth</th>\n      <th>sex</th>\n      <th>strat2</th>\n      <th>tx</th>\n      <th>txgrp</th>\n    </tr>\n  </thead>\n  <tbody>\n    <tr>\n      <th>0</th>\n      <td>34.0</td>\n      <td>169.0</td>\n      <td>0</td>\n      <td>1</td>\n      <td>100</td>\n      <td>39.0</td>\n      <td>1</td>\n      <td>1</td>\n      <td>1</td>\n      <td>0</td>\n      <td>1</td>\n    </tr>\n    <tr>\n      <th>1</th>\n      <td>34.0</td>\n      <td>149.5</td>\n      <td>0</td>\n      <td>1</td>\n      <td>90</td>\n      <td>15.0</td>\n      <td>2</td>\n      <td>2</td>\n      <td>1</td>\n      <td>0</td>\n      <td>1</td>\n    </tr>\n    <tr>\n      <th>2</th>\n      <td>20.0</td>\n      <td>23.5</td>\n      <td>1</td>\n      <td>1</td>\n      <td>100</td>\n      <td>9.0</td>\n      <td>1</td>\n      <td>1</td>\n      <td>0</td>\n      <td>1</td>\n      <td>2</td>\n    </tr>\n    <tr>\n      <th>3</th>\n      <td>48.0</td>\n      <td>46.0</td>\n      <td>0</td>\n      <td>1</td>\n      <td>90</td>\n      <td>53.0</td>\n      <td>1</td>\n      <td>1</td>\n      <td>1</td>\n      <td>0</td>\n      <td>1</td>\n    </tr>\n    <tr>\n      <th>4</th>\n      <td>46.0</td>\n      <td>10.0</td>\n      <td>0</td>\n      <td>3</td>\n      <td>90</td>\n      <td>12.0</td>\n      <td>1</td>\n      <td>1</td>\n      <td>0</td>\n      <td>1</td>\n      <td>2</td>\n    </tr>\n    <tr>\n      <th>...</th>\n      <td>...</td>\n      <td>...</td>\n      <td>...</td>\n      <td>...</td>\n      <td>...</td>\n      <td>...</td>\n      <td>...</td>\n      <td>...</td>\n      <td>...</td>\n      <td>...</td>\n      <td>...</td>\n    </tr>\n    <tr>\n      <th>1146</th>\n      <td>44.0</td>\n      <td>65.5</td>\n      <td>0</td>\n      <td>1</td>\n      <td>100</td>\n      <td>103.0</td>\n      <td>1</td>\n      <td>1</td>\n      <td>1</td>\n      <td>1</td>\n      <td>2</td>\n    </tr>\n    <tr>\n      <th>1147</th>\n      <td>41.0</td>\n      <td>7.5</td>\n      <td>0</td>\n      <td>1</td>\n      <td>80</td>\n      <td>20.0</td>\n      <td>2</td>\n      <td>1</td>\n      <td>0</td>\n      <td>1</td>\n      <td>2</td>\n    </tr>\n    <tr>\n      <th>1148</th>\n      <td>43.0</td>\n      <td>170.0</td>\n      <td>0</td>\n      <td>3</td>\n      <td>90</td>\n      <td>27.0</td>\n      <td>2</td>\n      <td>1</td>\n      <td>1</td>\n      <td>0</td>\n      <td>1</td>\n    </tr>\n    <tr>\n      <th>1149</th>\n      <td>44.0</td>\n      <td>282.5</td>\n      <td>0</td>\n      <td>3</td>\n      <td>80</td>\n      <td>12.0</td>\n      <td>1</td>\n      <td>1</td>\n      <td>1</td>\n      <td>0</td>\n      <td>1</td>\n    </tr>\n    <tr>\n      <th>1150</th>\n      <td>44.0</td>\n      <td>120.0</td>\n      <td>0</td>\n      <td>1</td>\n      <td>90</td>\n      <td>26.0</td>\n      <td>1</td>\n      <td>1</td>\n      <td>1</td>\n      <td>1</td>\n      <td>2</td>\n    </tr>\n  </tbody>\n</table>\n<p>1151 rows × 11 columns</p>\n</div>"
     },
     "execution_count": 37,
     "metadata": {},
     "output_type": "execute_result"
    }
   ],
   "source": [
    "Xaids"
   ],
   "metadata": {
    "collapsed": false
   }
  },
  {
   "cell_type": "code",
   "execution_count": 38,
   "outputs": [
    {
     "data": {
      "text/plain": "array([(False, 189.), (False, 287.), (False, 242.), ..., (False, 272.),\n       (False, 192.), (False, 132.)],\n      dtype=[('censor', '?'), ('time', '<f8')])"
     },
     "execution_count": 38,
     "metadata": {},
     "output_type": "execute_result"
    }
   ],
   "source": [
    "yaids"
   ],
   "metadata": {
    "collapsed": false
   }
  },
  {
   "cell_type": "code",
   "execution_count": 39,
   "outputs": [
    {
     "data": {
      "text/plain": "       age    cd4 hemophil ivdrug karnof  priorzdv raceth sex strat2 tx txgrp\n0     34.0  169.0        0      1    100      39.0      1   1      1  0     1\n1     34.0  149.5        0      1     90      15.0      2   2      1  0     1\n2     20.0   23.5        1      1    100       9.0      1   1      0  1     2\n3     48.0   46.0        0      1     90      53.0      1   1      1  0     1\n4     46.0   10.0        0      3     90      12.0      1   1      0  1     2\n...    ...    ...      ...    ...    ...       ...    ...  ..    ... ..   ...\n1146  44.0   65.5        0      1    100     103.0      1   1      1  1     2\n1147  41.0    7.5        0      1     80      20.0      2   1      0  1     2\n1148  43.0  170.0        0      3     90      27.0      2   1      1  0     1\n1149  44.0  282.5        0      3     80      12.0      1   1      1  0     1\n1150  44.0  120.0        0      1     90      26.0      1   1      1  1     2\n\n[1151 rows x 11 columns]",
      "text/html": "<div>\n<style scoped>\n    .dataframe tbody tr th:only-of-type {\n        vertical-align: middle;\n    }\n\n    .dataframe tbody tr th {\n        vertical-align: top;\n    }\n\n    .dataframe thead th {\n        text-align: right;\n    }\n</style>\n<table border=\"1\" class=\"dataframe\">\n  <thead>\n    <tr style=\"text-align: right;\">\n      <th></th>\n      <th>age</th>\n      <th>cd4</th>\n      <th>hemophil</th>\n      <th>ivdrug</th>\n      <th>karnof</th>\n      <th>priorzdv</th>\n      <th>raceth</th>\n      <th>sex</th>\n      <th>strat2</th>\n      <th>tx</th>\n      <th>txgrp</th>\n    </tr>\n  </thead>\n  <tbody>\n    <tr>\n      <th>0</th>\n      <td>34.0</td>\n      <td>169.0</td>\n      <td>0</td>\n      <td>1</td>\n      <td>100</td>\n      <td>39.0</td>\n      <td>1</td>\n      <td>1</td>\n      <td>1</td>\n      <td>0</td>\n      <td>1</td>\n    </tr>\n    <tr>\n      <th>1</th>\n      <td>34.0</td>\n      <td>149.5</td>\n      <td>0</td>\n      <td>1</td>\n      <td>90</td>\n      <td>15.0</td>\n      <td>2</td>\n      <td>2</td>\n      <td>1</td>\n      <td>0</td>\n      <td>1</td>\n    </tr>\n    <tr>\n      <th>2</th>\n      <td>20.0</td>\n      <td>23.5</td>\n      <td>1</td>\n      <td>1</td>\n      <td>100</td>\n      <td>9.0</td>\n      <td>1</td>\n      <td>1</td>\n      <td>0</td>\n      <td>1</td>\n      <td>2</td>\n    </tr>\n    <tr>\n      <th>3</th>\n      <td>48.0</td>\n      <td>46.0</td>\n      <td>0</td>\n      <td>1</td>\n      <td>90</td>\n      <td>53.0</td>\n      <td>1</td>\n      <td>1</td>\n      <td>1</td>\n      <td>0</td>\n      <td>1</td>\n    </tr>\n    <tr>\n      <th>4</th>\n      <td>46.0</td>\n      <td>10.0</td>\n      <td>0</td>\n      <td>3</td>\n      <td>90</td>\n      <td>12.0</td>\n      <td>1</td>\n      <td>1</td>\n      <td>0</td>\n      <td>1</td>\n      <td>2</td>\n    </tr>\n    <tr>\n      <th>...</th>\n      <td>...</td>\n      <td>...</td>\n      <td>...</td>\n      <td>...</td>\n      <td>...</td>\n      <td>...</td>\n      <td>...</td>\n      <td>...</td>\n      <td>...</td>\n      <td>...</td>\n      <td>...</td>\n    </tr>\n    <tr>\n      <th>1146</th>\n      <td>44.0</td>\n      <td>65.5</td>\n      <td>0</td>\n      <td>1</td>\n      <td>100</td>\n      <td>103.0</td>\n      <td>1</td>\n      <td>1</td>\n      <td>1</td>\n      <td>1</td>\n      <td>2</td>\n    </tr>\n    <tr>\n      <th>1147</th>\n      <td>41.0</td>\n      <td>7.5</td>\n      <td>0</td>\n      <td>1</td>\n      <td>80</td>\n      <td>20.0</td>\n      <td>2</td>\n      <td>1</td>\n      <td>0</td>\n      <td>1</td>\n      <td>2</td>\n    </tr>\n    <tr>\n      <th>1148</th>\n      <td>43.0</td>\n      <td>170.0</td>\n      <td>0</td>\n      <td>3</td>\n      <td>90</td>\n      <td>27.0</td>\n      <td>2</td>\n      <td>1</td>\n      <td>1</td>\n      <td>0</td>\n      <td>1</td>\n    </tr>\n    <tr>\n      <th>1149</th>\n      <td>44.0</td>\n      <td>282.5</td>\n      <td>0</td>\n      <td>3</td>\n      <td>80</td>\n      <td>12.0</td>\n      <td>1</td>\n      <td>1</td>\n      <td>1</td>\n      <td>0</td>\n      <td>1</td>\n    </tr>\n    <tr>\n      <th>1150</th>\n      <td>44.0</td>\n      <td>120.0</td>\n      <td>0</td>\n      <td>1</td>\n      <td>90</td>\n      <td>26.0</td>\n      <td>1</td>\n      <td>1</td>\n      <td>1</td>\n      <td>1</td>\n      <td>2</td>\n    </tr>\n  </tbody>\n</table>\n<p>1151 rows × 11 columns</p>\n</div>"
     },
     "execution_count": 39,
     "metadata": {},
     "output_type": "execute_result"
    }
   ],
   "source": [
    "Xdeath"
   ],
   "metadata": {
    "collapsed": false
   }
  },
  {
   "cell_type": "code",
   "execution_count": 40,
   "outputs": [
    {
     "data": {
      "text/plain": "array([(False, 189.), (False, 287.), (False, 242.), ..., (False, 272.),\n       (False, 192.), (False, 132.)],\n      dtype=[('censor_d', '?'), ('time_d', '<f8')])"
     },
     "execution_count": 40,
     "metadata": {},
     "output_type": "execute_result"
    }
   ],
   "source": [
    "ydeath"
   ],
   "metadata": {
    "collapsed": false
   }
  },
  {
   "cell_type": "code",
   "execution_count": 41,
   "outputs": [
    {
     "data": {
      "text/plain": "      censor_d  time_d  censor   time\n0            0   189.0       0  189.0\n1            0   287.0       0  287.0\n2            0   242.0       0  242.0\n3            0   199.0       0  199.0\n4            0   286.0       0  286.0\n...        ...     ...     ...    ...\n1146         0   273.0       0  273.0\n1147         0   327.0       1   47.0\n1148         0   272.0       0  272.0\n1149         0   192.0       0  192.0\n1150         0   132.0       0  132.0\n\n[1151 rows x 4 columns]",
      "text/html": "<div>\n<style scoped>\n    .dataframe tbody tr th:only-of-type {\n        vertical-align: middle;\n    }\n\n    .dataframe tbody tr th {\n        vertical-align: top;\n    }\n\n    .dataframe thead th {\n        text-align: right;\n    }\n</style>\n<table border=\"1\" class=\"dataframe\">\n  <thead>\n    <tr style=\"text-align: right;\">\n      <th></th>\n      <th>censor_d</th>\n      <th>time_d</th>\n      <th>censor</th>\n      <th>time</th>\n    </tr>\n  </thead>\n  <tbody>\n    <tr>\n      <th>0</th>\n      <td>0</td>\n      <td>189.0</td>\n      <td>0</td>\n      <td>189.0</td>\n    </tr>\n    <tr>\n      <th>1</th>\n      <td>0</td>\n      <td>287.0</td>\n      <td>0</td>\n      <td>287.0</td>\n    </tr>\n    <tr>\n      <th>2</th>\n      <td>0</td>\n      <td>242.0</td>\n      <td>0</td>\n      <td>242.0</td>\n    </tr>\n    <tr>\n      <th>3</th>\n      <td>0</td>\n      <td>199.0</td>\n      <td>0</td>\n      <td>199.0</td>\n    </tr>\n    <tr>\n      <th>4</th>\n      <td>0</td>\n      <td>286.0</td>\n      <td>0</td>\n      <td>286.0</td>\n    </tr>\n    <tr>\n      <th>...</th>\n      <td>...</td>\n      <td>...</td>\n      <td>...</td>\n      <td>...</td>\n    </tr>\n    <tr>\n      <th>1146</th>\n      <td>0</td>\n      <td>273.0</td>\n      <td>0</td>\n      <td>273.0</td>\n    </tr>\n    <tr>\n      <th>1147</th>\n      <td>0</td>\n      <td>327.0</td>\n      <td>1</td>\n      <td>47.0</td>\n    </tr>\n    <tr>\n      <th>1148</th>\n      <td>0</td>\n      <td>272.0</td>\n      <td>0</td>\n      <td>272.0</td>\n    </tr>\n    <tr>\n      <th>1149</th>\n      <td>0</td>\n      <td>192.0</td>\n      <td>0</td>\n      <td>192.0</td>\n    </tr>\n    <tr>\n      <th>1150</th>\n      <td>0</td>\n      <td>132.0</td>\n      <td>0</td>\n      <td>132.0</td>\n    </tr>\n  </tbody>\n</table>\n<p>1151 rows × 4 columns</p>\n</div>"
     },
     "execution_count": 41,
     "metadata": {},
     "output_type": "execute_result"
    }
   ],
   "source": [
    "y = pd.concat([pd.DataFrame.from_records(ydeath),pd.DataFrame.from_records(yaids)],axis=1)\n",
    "y['censor'] = y['censor'].astype('int64')\n",
    "y['censor_d'] = y['censor_d'].astype('int64')\n",
    "y"
   ],
   "metadata": {
    "collapsed": false
   }
  },
  {
   "cell_type": "markdown",
   "source": [
    "1 -> AIDS\n",
    "2 -> DECES W/O AIDS\n",
    "0 -> PAS AIDS"
   ],
   "metadata": {
    "collapsed": false
   }
  },
  {
   "cell_type": "code",
   "execution_count": 42,
   "outputs": [
    {
     "name": "stdout",
     "output_type": "stream",
     "text": [
      "      censor_d  time_d  censor   time  status\n",
      "0            0   189.0       0  189.0     0.0\n",
      "1            0   287.0       0  287.0     0.0\n",
      "2            0   242.0       0  242.0     0.0\n",
      "3            0   199.0       0  199.0     0.0\n",
      "4            0   286.0       0  286.0     0.0\n",
      "...        ...     ...     ...    ...     ...\n",
      "1146         0   273.0       0  273.0     0.0\n",
      "1147         0   327.0       1   47.0     1.0\n",
      "1148         0   272.0       0  272.0     0.0\n",
      "1149         0   192.0       0  192.0     0.0\n",
      "1150         0   132.0       0  132.0     0.0\n",
      "\n",
      "[1151 rows x 5 columns]\n"
     ]
    }
   ],
   "source": [
    "y['status'] = np.where((y['censor'] == 0) & (y['censor_d'] == 0), 0,\n",
    "                   np.where((y['censor'] == 1), 1,\n",
    "                   np.where((y['censor'] == 0) & (y['censor_d'] == 1), 2, np.nan)))\n",
    "print(y)"
   ],
   "metadata": {
    "collapsed": false
   }
  },
  {
   "cell_type": "code",
   "execution_count": 43,
   "outputs": [
    {
     "data": {
      "text/plain": "       time  status\n0     189.0     0.0\n1     287.0     0.0\n2     242.0     0.0\n3     199.0     0.0\n4     286.0     0.0\n...     ...     ...\n1146  273.0     0.0\n1147   47.0     1.0\n1148  272.0     0.0\n1149  192.0     0.0\n1150  132.0     0.0\n\n[1151 rows x 2 columns]",
      "text/html": "<div>\n<style scoped>\n    .dataframe tbody tr th:only-of-type {\n        vertical-align: middle;\n    }\n\n    .dataframe tbody tr th {\n        vertical-align: top;\n    }\n\n    .dataframe thead th {\n        text-align: right;\n    }\n</style>\n<table border=\"1\" class=\"dataframe\">\n  <thead>\n    <tr style=\"text-align: right;\">\n      <th></th>\n      <th>time</th>\n      <th>status</th>\n    </tr>\n  </thead>\n  <tbody>\n    <tr>\n      <th>0</th>\n      <td>189.0</td>\n      <td>0.0</td>\n    </tr>\n    <tr>\n      <th>1</th>\n      <td>287.0</td>\n      <td>0.0</td>\n    </tr>\n    <tr>\n      <th>2</th>\n      <td>242.0</td>\n      <td>0.0</td>\n    </tr>\n    <tr>\n      <th>3</th>\n      <td>199.0</td>\n      <td>0.0</td>\n    </tr>\n    <tr>\n      <th>4</th>\n      <td>286.0</td>\n      <td>0.0</td>\n    </tr>\n    <tr>\n      <th>...</th>\n      <td>...</td>\n      <td>...</td>\n    </tr>\n    <tr>\n      <th>1146</th>\n      <td>273.0</td>\n      <td>0.0</td>\n    </tr>\n    <tr>\n      <th>1147</th>\n      <td>47.0</td>\n      <td>1.0</td>\n    </tr>\n    <tr>\n      <th>1148</th>\n      <td>272.0</td>\n      <td>0.0</td>\n    </tr>\n    <tr>\n      <th>1149</th>\n      <td>192.0</td>\n      <td>0.0</td>\n    </tr>\n    <tr>\n      <th>1150</th>\n      <td>132.0</td>\n      <td>0.0</td>\n    </tr>\n  </tbody>\n</table>\n<p>1151 rows × 2 columns</p>\n</div>"
     },
     "execution_count": 43,
     "metadata": {},
     "output_type": "execute_result"
    }
   ],
   "source": [
    "y = y.drop([\"time_d\",\"censor\",\"censor_d\"],axis=1)\n",
    "y"
   ],
   "metadata": {
    "collapsed": false
   }
  },
  {
   "cell_type": "markdown",
   "source": [
    "temps d'event pour la simualtion\n",
    "simulation en risque compétitif de mon décès sans sida (avec un lien ou pas avec nos covariable) deces overdose sans sida (pverdose et sexe)"
   ],
   "metadata": {
    "collapsed": false
   }
  }
 ],
 "metadata": {
  "kernelspec": {
   "display_name": "Python 3",
   "language": "python",
   "name": "python3"
  },
  "language_info": {
   "codemirror_mode": {
    "name": "ipython",
    "version": 2
   },
   "file_extension": ".py",
   "mimetype": "text/x-python",
   "name": "python",
   "nbconvert_exporter": "python",
   "pygments_lexer": "ipython2",
   "version": "2.7.6"
  }
 },
 "nbformat": 4,
 "nbformat_minor": 0
}
